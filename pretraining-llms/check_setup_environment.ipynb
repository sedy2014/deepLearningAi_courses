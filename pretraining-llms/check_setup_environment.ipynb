{
 "cells": [
  {
   "cell_type": "markdown",
   "id": "0d61fde0",
   "metadata": {
    "id": "0d61fde0"
   },
   "source": [
    "\n",
    "# **Setup Environment Script Guide**\n",
    "\n",
    "* This script sets up the execution environment for running code both **locally** (Jupyter, terminal) and **remotely** (Google Colab). It ensures that the necessary directories are accessible and allows optional GPU usage when running locally.\n",
    "* Then, the script shows **how to call this method in different ways**\n",
    "\n",
    "## **How It Works**\n",
    "- The function `setup_environment(curr_proj_folder, use_gpu=True)`:\n",
    "  - Determines whether the script is running locally or in **Google Colab**.\n",
    "  - If running on **Colab**, it **mounts Google Drive**, sets the working directory, and returns `mount_success` to indicate if mounting was successful.\n",
    "  - If running **locally**, it verifies the folder path and checks for GPU availability.\n",
    "\n",
    "## **Return Values**\n",
    "- **run_local (bool)**: `True` if running locally, `False` if running on Colab.\n",
    "- **path_to_scripts (str)**: The path to the working directory.\n",
    "- **mount_success (bool)**: `True` if Google Drive was successfully mounted (only relevant for Colab).\n",
    "\n",
    "## **Usage Scenarios**\n",
    "### **1. Running Locally (Jupyter, Terminal)**\n",
    "```python\n",
    "run_local, script_path, mount_success = setup_environment(curr_proj_folder=\"my_project\", use_gpu=True)\n",
    "```\n",
    "- Ensures the current directory matches the project folder.\n",
    "- Checks for **GPU availability** (via `nvidia-smi`).\n",
    "- If a GPU is available and `use_gpu=True`, it will be used.\n",
    "\n",
    "### **2. Running on Google Colab**\n",
    "```python\n",
    "run_local, script_path, mount_success = setup_environment(curr_proj_folder=\"my_project\", use_gpu=False)\n",
    "```\n",
    "- **Mounts Google Drive** at `/content/drive`.\n",
    "- Navigates to the project folder (`Colab Notebooks/my_project`).\n",
    "- `mount_success` is `True` if Drive was successfully mounted.\n",
    "\n",
    "## **Handling GPU Selection in Colab**\n",
    "Currently, `use_gpu` is only relevant when running locally. In **Google Colab**, you must manually select a GPU:\n",
    "1. **Go to** `Runtime` > `Change runtime type`.\n",
    "2. **Set Hardware Accelerator** to `GPU`.\n",
    "\n",
    "## **Unmounting Drive in Colab**\n",
    "At the end of the session, you can unmount the drive **only if it was successfully mounted**:\n",
    "```python\n",
    "from google.colab import drive\n",
    "if not run_local and mount_success:\n",
    "    drive.flush_and_unmount()\n",
    "    print(\"Drive unmounted successfully!\")\n",
    "```\n",
    "\n",
    "## **Conclusion**\n",
    "This script provides a seamless way to manage execution environments for both **local and Colab runs**, ensuring proper directory setup and GPU availability.\n"
   ]
  },
  {
   "cell_type": "code",
   "execution_count": null,
   "id": "a44125f8-8e29-4554-a2a1-f91467a749c8",
   "metadata": {
    "id": "a44125f8-8e29-4554-a2a1-f91467a749c8"
   },
   "outputs": [],
   "source": [
    "import os\n",
    "import subprocess\n",
    "from typing import Tuple\n",
    "\n",
    "def setup_environment(curr_proj_folder: str = \"pretraining-llms\", use_gpu: bool = True) -> Tuple[bool, str]:\n",
    "    \"\"\"\n",
    "    Sets up the environment for running code, handling local and remote execution.\n",
    "\n",
    "    Args:\n",
    "        curr_proj_folder (str, optional): Folder name of the current project. Defaults to \"pretraining-llms\".\n",
    "        use_gpu (bool, optional): Whether to use GPU if available. Defaults to True.\n",
    "\n",
    "    Returns:\n",
    "        Tuple[bool, str,bool]: (run_local status, computed path_to_scripts,mount_success status)\n",
    "    \"\"\"\n",
    "    try:\n",
    "      from google.colab import drive\n",
    "      run_local = False\n",
    "    except ImportError:\n",
    "      run_local = True\n",
    "\n",
    "    google_drive_base_folder = 'Colab Notebooks'\n",
    "    print(\"Running Remote\") if not run_local else print(\"Running locally\")\n",
    "\n",
    "    # Initialize mount status for Colab\n",
    "    mount_success = False\n",
    "    # Remote run code\n",
    "    if not run_local:\n",
    "      # Mount Google Drive\n",
    "      drive.mount('/content/drive')\n",
    "      # Check if the mount was successful\n",
    "      if os.path.ismount('/content/drive'):\n",
    "        print(\"Google Drive mounted successfully!\")\n",
    "        mount_success = True\n",
    "      else:\n",
    "        print(\"Drive mount failed.\")\n",
    "      # By Default, this is complete mount path\n",
    "      mount_path = '/content/drive/MyDrive'\n",
    "\n",
    "      if curr_proj_folder is None:\n",
    "        curr_proj_folder = 'pretraining-llms'\n",
    "      # complete path to current files\n",
    "      path_to_scripts = os.path.join(mount_path, google_drive_base_folder,curr_proj_folder)\n",
    "      # Create the directory if it doesn't exist\n",
    "      if not os.path.exists(path_to_scripts):\n",
    "        os.makedirs(path_to_scripts)\n",
    "        # change to the path\n",
    "      os.chdir(path_to_scripts)\n",
    "      print(f'Running code in path {os.getcwd()}')\n",
    "    # Local Run\n",
    "    else:\n",
    "      path_to_scripts  = os.getcwd()\n",
    "      if curr_proj_folder:\n",
    "          # folder name provided as argument should match the one existing\n",
    "          assert os.path.basename(path_to_scripts ) == curr_proj_folder, \\\n",
    "          f\"Folder Name Mismatch: {os.path.basename(path_to_scripts )} != {curr_proj_folder}\"\n",
    "      # in this case, curr_proj_folder is not required, as its computed automatically\n",
    "\n",
    "      print(f'Running code in path {path_to_scripts }')\n",
    "      if use_gpu:\n",
    "        try:\n",
    "          gpu_info = subprocess.check_output(\"nvidia-smi\", shell=True).decode('utf-8')\n",
    "          print(\"******GPU is available and will be used:**********\")\n",
    "          print(gpu_info)\n",
    "        except subprocess.SubprocessError:\n",
    "          print(\"GPU check failed (nvidia-smi not found or no GPU available). Falling back to CPU.\")\n",
    "          use_gpu = False  # Force CPU usage if GPU check fails\n",
    "      else:\n",
    "          print(\"******use_gpu is set to False. Using CPU******\")\n",
    "    return run_local, path_to_scripts,mount_success\n",
    "\n"
   ]
  },
  {
   "cell_type": "code",
   "execution_count": null,
   "id": "629eebe3-be7f-4fe2-8757-09b715dd9215",
   "metadata": {
    "colab": {
     "base_uri": "https://localhost:8080/"
    },
    "id": "629eebe3-be7f-4fe2-8757-09b715dd9215",
    "outputId": "d1624831-dc2a-42ef-99bc-ffa8729f9ebb"
   },
   "outputs": [],
   "source": [
    "# Example usage\n",
    "run_local, script_path,mount_success = setup_environment(curr_proj_folder = \"pretraining-llms\",use_gpu = True)\n",
    "#run_local, script_path,_ = setup_environment(use_gpu = True)\n",
    "#run_local, script_path,_ = setup_environment()\n",
    "#run_local, script_path,_ = setup_environment(curr_proj_folder = \"pretrain-llms\",use_gpu = True)\n",
    "print(f\"Run Local: {run_local}, Script Path: {script_path}\")"
   ]
  },
  {
   "cell_type": "code",
   "execution_count": null,
   "id": "e0937109-61c7-4ee4-8535-cdf75803246d",
   "metadata": {
    "colab": {
     "base_uri": "https://localhost:8080/"
    },
    "id": "e0937109-61c7-4ee4-8535-cdf75803246d",
    "outputId": "69491ab4-c7b0-46f5-b616-9bf3f675c790"
   },
   "outputs": [],
   "source": [
    " if not run_local and mount_success:\n",
    "    from google.colab import drive\n",
    "    drive.flush_and_unmount()\n",
    "    print(\"Unmounted Google Drive.\")"
   ]
  },
  {
   "cell_type": "code",
   "execution_count": null,
   "id": "sMNSMAWBldrH",
   "metadata": {
    "colab": {
     "base_uri": "https://localhost:8080/"
    },
    "id": "sMNSMAWBldrH",
    "outputId": "7d274dc3-8e3f-481e-bafa-70e818414cba"
   },
   "outputs": [],
   "source": [
    "run_local, script_path,_ = setup_environment(curr_proj_folder = \"pretraining-llms\",use_gpu = True)"
   ]
  },
  {
   "cell_type": "code",
   "execution_count": null,
   "id": "6bedbc2e-874f-46f4-8736-9445e6c6c159",
   "metadata": {},
   "outputs": [],
   "source": []
  }
 ],
 "metadata": {
  "colab": {
   "provenance": []
  },
  "kernelspec": {
   "display_name": "Python 3 (ipykernel)",
   "language": "python",
   "name": "python3"
  },
  "language_info": {
   "codemirror_mode": {
    "name": "ipython",
    "version": 3
   },
   "file_extension": ".py",
   "mimetype": "text/x-python",
   "name": "python",
   "nbconvert_exporter": "python",
   "pygments_lexer": "ipython3",
   "version": "3.9.18"
  }
 },
 "nbformat": 4,
 "nbformat_minor": 5
}
